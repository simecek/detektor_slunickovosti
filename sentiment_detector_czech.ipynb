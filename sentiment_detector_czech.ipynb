{
 "cells": [
  {
   "cell_type": "code",
   "execution_count": null,
   "metadata": {},
   "outputs": [],
   "source": [
    "import ipywidgets as widgets\n",
    "from fastai import *\n",
    "from fastai.text import *"
   ]
  },
  {
   "cell_type": "code",
   "execution_count": null,
   "metadata": {},
   "outputs": [],
   "source": [
    "sentiment_classifier = load_learner(path='.', file='cs_csfd_2classes_945.pkl').to_fp32()"
   ]
  },
  {
   "cell_type": "code",
   "execution_count": null,
   "metadata": {},
   "outputs": [],
   "source": [
    "text_area = widgets.Textarea(\n",
    "    value='',\n",
    "    placeholder='Sem překopírujte text',\n",
    "    description='',\n",
    "    disabled=False,\n",
    "    rows=10,\n",
    ")\n",
    "\n",
    "lbl_pred = widgets.Label()\n",
    "\n",
    "btn_run = widgets.Button(description='Spusť')"
   ]
  },
  {
   "cell_type": "code",
   "execution_count": null,
   "metadata": {},
   "outputs": [],
   "source": [
    "def on_click_classify(change):\n",
    "    text = text_area.value\n",
    "    pred, pred_idx, probs = sentiment_classifier.predict(text)\n",
    "    if int(pred_idx) == 1:\n",
    "        pred_emoji = '☀️'\n",
    "    else:\n",
    "        pred_emoji = '⛈️'\n",
    "    lbl_pred.value = f'Predikce: {pred_emoji}; Pravděpodobnost: {probs[pred_idx]:.04f}'\n",
    "\n",
    "btn_run.on_click(on_click_classify)"
   ]
  },
  {
   "cell_type": "code",
   "execution_count": null,
   "metadata": {},
   "outputs": [],
   "source": [
    "widgets.VBox([widgets.Label('Jak moc je vaše review sluníčkové?'), \n",
    "      text_area, btn_run, lbl_pred])"
   ]
  }
 ],
 "metadata": {
  "kernelspec": {
   "display_name": "Python 3",
   "language": "python",
   "name": "python3"
  },
  "language_info": {
   "codemirror_mode": {
    "name": "ipython",
    "version": 3
   },
   "file_extension": ".py",
   "mimetype": "text/x-python",
   "name": "python",
   "nbconvert_exporter": "python",
   "pygments_lexer": "ipython3",
   "version": "3.6.9"
  }
 },
 "nbformat": 4,
 "nbformat_minor": 4
}
